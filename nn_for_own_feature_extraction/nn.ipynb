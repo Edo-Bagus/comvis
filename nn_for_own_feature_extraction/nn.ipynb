{
 "cells": [
  {
   "cell_type": "code",
   "execution_count": 23,
   "id": "3fb87ef8",
   "metadata": {},
   "outputs": [],
   "source": [
    "import numpy as np\n",
    "import pandas as pd\n",
    "import cv2\n",
    "from skimage.feature import hog\n",
    "from sklearn.preprocessing import StandardScaler\n",
    "from sklearn.model_selection import train_test_split\n",
    "from sklearn.metrics import classification_report, confusion_matrix\n",
    "from tensorflow.keras.models import Sequential\n",
    "from tensorflow.keras.layers import Dense, Dropout, BatchNormalization\n",
    "from tensorflow.keras.callbacks import EarlyStopping\n",
    "import matplotlib.pyplot as plt"
   ]
  },
  {
   "cell_type": "code",
   "execution_count": 24,
   "id": "d2473966",
   "metadata": {},
   "outputs": [],
   "source": [
    "# 1. Load Dataset\n",
    "column_names = ['Image', 'Attention']\n",
    "df = pd.read_csv('../attention.csv', header=None, names=column_names)\n",
    "df['Image'] = '../resized_images/' + df['Image']  # Tambahkan path folder ke nama gambar"
   ]
  },
  {
   "cell_type": "code",
   "execution_count": 25,
   "id": "a3d45fba",
   "metadata": {},
   "outputs": [],
   "source": [
    "# 2. Ekstraksi Fitur dari Gambar\n",
    "def extract_features(image_path, resize_dim=(128, 128)):\n",
    "    img = cv2.imread(image_path)\n",
    "    if img is None:\n",
    "        raise ValueError(f\"Gambar tidak ditemukan: {image_path}\")\n",
    "    img = cv2.resize(img, resize_dim)\n",
    "    \n",
    "    # Ekstrak HOG Features\n",
    "    hog_features = hog(\n",
    "        img, \n",
    "        orientations=9,\n",
    "        pixels_per_cell=(8, 8),\n",
    "        cells_per_block=(2, 2),\n",
    "        channel_axis=-1\n",
    "    )\n",
    "    \n",
    "    # Ekstrak Color Histogram (RGB)\n",
    "    color_hist = cv2.calcHist(\n",
    "        [img], \n",
    "        [0, 1, 2], \n",
    "        None, \n",
    "        [8, 8, 8], \n",
    "        [0, 256, 0, 256, 0, 256]\n",
    "    ).flatten()\n",
    "    \n",
    "    return np.concatenate([hog_features, color_hist])\n",
    "\n",
    "# Ekstrak fitur untuk semua gambar\n",
    "X_features = []\n",
    "valid_images = []\n",
    "for img_path in df['Image']:\n",
    "    try:\n",
    "        features = extract_features(img_path)\n",
    "        X_features.append(features)\n",
    "        valid_images.append(True)\n",
    "    except Exception as e:\n",
    "        print(f\"Error memproses {img_path}: {str(e)}\")\n",
    "        valid_images.append(False)\n",
    "\n",
    "# Filter data yang valid\n",
    "df_valid = df[valid_images]\n",
    "X_features = np.array(X_features)\n",
    "y_labels = df_valid['Attention'].values\n",
    "\n"
   ]
  },
  {
   "cell_type": "code",
   "execution_count": 26,
   "id": "9259af64",
   "metadata": {},
   "outputs": [],
   "source": [
    "# 3. Preprocessing Data\n",
    "scaler = StandardScaler()\n",
    "X_scaled = scaler.fit_transform(X_features)\n",
    "\n",
    "# Split data\n",
    "X_train, X_test, y_train, y_test = train_test_split(\n",
    "    X_scaled, \n",
    "    y_labels, \n",
    "    test_size=0.2, \n",
    "    stratify=y_labels,\n",
    "    random_state=42\n",
    ")"
   ]
  },
  {
   "cell_type": "code",
   "execution_count": 27,
   "id": "d3bbabbd",
   "metadata": {},
   "outputs": [
    {
     "name": "stderr",
     "output_type": "stream",
     "text": [
      "d:\\UGM\\Kuliah\\6th Semester\\Pengolahan Citra dan Visi Komputer\\PascaUTS\\Tugas\\Tugas 1\\comvis\\.venv\\Lib\\site-packages\\keras\\src\\layers\\core\\dense.py:87: UserWarning: Do not pass an `input_shape`/`input_dim` argument to a layer. When using Sequential models, prefer using an `Input(shape)` object as the first layer in the model instead.\n",
      "  super().__init__(activity_regularizer=activity_regularizer, **kwargs)\n"
     ]
    }
   ],
   "source": [
    "# 4. Bangun Model Neural Network\n",
    "N = X_train.shape[1]  # Dimensi fitur\n",
    "num_classes = len(np.unique(y_labels))\n",
    "\n",
    "model = Sequential([\n",
    "    Dense(256, activation='relu', input_shape=(N,)),\n",
    "    BatchNormalization(),\n",
    "    Dropout(0.5),\n",
    "    Dense(128, activation='relu'),\n",
    "    Dropout(0.3),\n",
    "    Dense(64, activation='relu'),\n",
    "    Dense(num_classes, activation='softmax')\n",
    "])\n",
    "\n",
    "model.compile(\n",
    "    optimizer='adam',\n",
    "    loss='sparse_categorical_crossentropy',\n",
    "    metrics=['accuracy']\n",
    ")"
   ]
  },
  {
   "cell_type": "code",
   "execution_count": 28,
   "id": "08e6b5c4",
   "metadata": {},
   "outputs": [
    {
     "name": "stdout",
     "output_type": "stream",
     "text": [
      "Epoch 1/50\n",
      "\u001b[1m12/12\u001b[0m \u001b[32m━━━━━━━━━━━━━━━━━━━━\u001b[0m\u001b[37m\u001b[0m \u001b[1m2s\u001b[0m 38ms/step - accuracy: 0.2038 - loss: 1.9164 - val_accuracy: 0.2500 - val_loss: 2.0952\n",
      "Epoch 2/50\n",
      "\u001b[1m12/12\u001b[0m \u001b[32m━━━━━━━━━━━━━━━━━━━━\u001b[0m\u001b[37m\u001b[0m \u001b[1m0s\u001b[0m 26ms/step - accuracy: 0.4085 - loss: 1.5265 - val_accuracy: 0.3333 - val_loss: 1.9158\n",
      "Epoch 3/50\n",
      "\u001b[1m12/12\u001b[0m \u001b[32m━━━━━━━━━━━━━━━━━━━━\u001b[0m\u001b[37m\u001b[0m \u001b[1m0s\u001b[0m 24ms/step - accuracy: 0.4500 - loss: 1.4596 - val_accuracy: 0.3333 - val_loss: 1.8096\n",
      "Epoch 4/50\n",
      "\u001b[1m12/12\u001b[0m \u001b[32m━━━━━━━━━━━━━━━━━━━━\u001b[0m\u001b[37m\u001b[0m \u001b[1m0s\u001b[0m 27ms/step - accuracy: 0.3928 - loss: 1.4003 - val_accuracy: 0.3958 - val_loss: 1.7600\n",
      "Epoch 5/50\n",
      "\u001b[1m12/12\u001b[0m \u001b[32m━━━━━━━━━━━━━━━━━━━━\u001b[0m\u001b[37m\u001b[0m \u001b[1m0s\u001b[0m 23ms/step - accuracy: 0.5258 - loss: 1.2023 - val_accuracy: 0.3125 - val_loss: 1.7419\n",
      "Epoch 6/50\n",
      "\u001b[1m12/12\u001b[0m \u001b[32m━━━━━━━━━━━━━━━━━━━━\u001b[0m\u001b[37m\u001b[0m \u001b[1m0s\u001b[0m 24ms/step - accuracy: 0.5374 - loss: 1.2578 - val_accuracy: 0.2917 - val_loss: 1.7636\n",
      "Epoch 7/50\n",
      "\u001b[1m12/12\u001b[0m \u001b[32m━━━━━━━━━━━━━━━━━━━━\u001b[0m\u001b[37m\u001b[0m \u001b[1m0s\u001b[0m 24ms/step - accuracy: 0.5490 - loss: 1.0425 - val_accuracy: 0.3542 - val_loss: 1.7772\n",
      "Epoch 8/50\n",
      "\u001b[1m12/12\u001b[0m \u001b[32m━━━━━━━━━━━━━━━━━━━━\u001b[0m\u001b[37m\u001b[0m \u001b[1m0s\u001b[0m 24ms/step - accuracy: 0.5963 - loss: 1.0368 - val_accuracy: 0.2917 - val_loss: 1.7197\n",
      "Epoch 9/50\n",
      "\u001b[1m12/12\u001b[0m \u001b[32m━━━━━━━━━━━━━━━━━━━━\u001b[0m\u001b[37m\u001b[0m \u001b[1m0s\u001b[0m 24ms/step - accuracy: 0.6941 - loss: 0.8140 - val_accuracy: 0.3333 - val_loss: 1.8097\n",
      "Epoch 10/50\n",
      "\u001b[1m12/12\u001b[0m \u001b[32m━━━━━━━━━━━━━━━━━━━━\u001b[0m\u001b[37m\u001b[0m \u001b[1m0s\u001b[0m 24ms/step - accuracy: 0.7309 - loss: 0.7850 - val_accuracy: 0.3750 - val_loss: 1.8656\n",
      "Epoch 11/50\n",
      "\u001b[1m12/12\u001b[0m \u001b[32m━━━━━━━━━━━━━━━━━━━━\u001b[0m\u001b[37m\u001b[0m \u001b[1m0s\u001b[0m 25ms/step - accuracy: 0.6734 - loss: 0.7731 - val_accuracy: 0.2917 - val_loss: 1.8530\n",
      "Epoch 12/50\n",
      "\u001b[1m12/12\u001b[0m \u001b[32m━━━━━━━━━━━━━━━━━━━━\u001b[0m\u001b[37m\u001b[0m \u001b[1m0s\u001b[0m 24ms/step - accuracy: 0.7687 - loss: 0.6228 - val_accuracy: 0.4167 - val_loss: 1.8842\n",
      "Epoch 13/50\n",
      "\u001b[1m12/12\u001b[0m \u001b[32m━━━━━━━━━━━━━━━━━━━━\u001b[0m\u001b[37m\u001b[0m \u001b[1m0s\u001b[0m 24ms/step - accuracy: 0.8194 - loss: 0.5106 - val_accuracy: 0.2917 - val_loss: 1.9752\n"
     ]
    }
   ],
   "source": [
    "# 5. Pelatihan Model\n",
    "history = model.fit(\n",
    "    X_train,\n",
    "    y_train,\n",
    "    epochs=50,\n",
    "    batch_size=16,\n",
    "    validation_split=0.2,\n",
    "    callbacks=[EarlyStopping(patience=5)],\n",
    "    verbose=1\n",
    ")"
   ]
  },
  {
   "cell_type": "code",
   "execution_count": 29,
   "id": "224f6765",
   "metadata": {},
   "outputs": [
    {
     "name": "stdout",
     "output_type": "stream",
     "text": [
      "Test Accuracy: 0.2500\n"
     ]
    }
   ],
   "source": [
    "# 6. Evaluasi\n",
    "test_loss, test_acc = model.evaluate(X_test, y_test, verbose=0)\n",
    "print(f\"Test Accuracy: {test_acc:.4f}\")"
   ]
  },
  {
   "cell_type": "code",
   "execution_count": 30,
   "id": "2f831325",
   "metadata": {},
   "outputs": [
    {
     "name": "stderr",
     "output_type": "stream",
     "text": [
      "WARNING:absl:You are saving your model as an HDF5 file via `model.save()` or `keras.saving.save_model(model)`. This file format is considered legacy. We recommend using instead the native Keras format, e.g. `model.save('my_model.keras')` or `keras.saving.save_model(model, 'my_model.keras')`. \n",
      "WARNING:absl:Compiled the loaded model, but the compiled metrics have yet to be built. `model.compile_metrics` will be empty until you train or evaluate the model.\n"
     ]
    }
   ],
   "source": [
    "# Simpan model\n",
    "model.save('attention_classifier.h5')\n",
    "\n",
    "# Load model\n",
    "from tensorflow.keras.models import load_model\n",
    "loaded_model = load_model('attention_classifier.h5')"
   ]
  }
 ],
 "metadata": {
  "kernelspec": {
   "display_name": ".venv",
   "language": "python",
   "name": "python3"
  },
  "language_info": {
   "codemirror_mode": {
    "name": "ipython",
    "version": 3
   },
   "file_extension": ".py",
   "mimetype": "text/x-python",
   "name": "python",
   "nbconvert_exporter": "python",
   "pygments_lexer": "ipython3",
   "version": "3.12.2"
  }
 },
 "nbformat": 4,
 "nbformat_minor": 5
}
