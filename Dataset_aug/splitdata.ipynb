{
 "cells": [
  {
   "cell_type": "code",
   "execution_count": 1,
   "id": "9aed1025",
   "metadata": {},
   "outputs": [
    {
     "name": "stdout",
     "output_type": "stream",
     "text": [
      "Dataset berhasil dibagi: 240 train, 60 test (seed=42)\n"
     ]
    }
   ],
   "source": [
    "import os\n",
    "import shutil\n",
    "import random\n",
    "\n",
    "def split_dataset(source_folder, train_folder, test_folder, train_ratio=0.8, seed=42):\n",
    "    # Set seed agar hasil acakan selalu sama\n",
    "    random.seed(seed)\n",
    "\n",
    "    # Pastikan folder train dan test ada\n",
    "    os.makedirs(train_folder, exist_ok=True)\n",
    "    os.makedirs(test_folder, exist_ok=True)\n",
    "\n",
    "    # Ambil semua file PNG dan urutkan sesuai nama numeriknya\n",
    "    all_files = [f for f in os.listdir(source_folder) if f.endswith('.png')]\n",
    "    all_files.sort(key=lambda x: int(os.path.splitext(x)[0]))  # sort berdasarkan angka\n",
    "\n",
    "    # Acak file sebelum split\n",
    "    random.shuffle(all_files)\n",
    "\n",
    "    # Hitung batas split\n",
    "    total_files = len(all_files)\n",
    "    train_count = int(total_files * train_ratio)\n",
    "\n",
    "    train_files = all_files[:train_count]\n",
    "    test_files = all_files[train_count:]\n",
    "\n",
    "    # Salin file ke folder tujuan\n",
    "    for file in train_files:\n",
    "        shutil.copy(os.path.join(source_folder, file), os.path.join(train_folder, file))\n",
    "    for file in test_files:\n",
    "        shutil.copy(os.path.join(source_folder, file), os.path.join(test_folder, file))\n",
    "\n",
    "    print(f\"Dataset berhasil dibagi: {len(train_files)} train, {len(test_files)} test (seed={seed})\")\n",
    "\n",
    "# Contoh penggunaan\n",
    "split_dataset(\n",
    "    source_folder='../datasets',\n",
    "    train_folder='./train',\n",
    "    test_folder='./test',\n",
    "    train_ratio=0.8,\n",
    "    seed=42  # Seed agar hasil selalu konsisten\n",
    ")\n"
   ]
  }
 ],
 "metadata": {
  "kernelspec": {
   "display_name": ".venv",
   "language": "python",
   "name": "python3"
  },
  "language_info": {
   "codemirror_mode": {
    "name": "ipython",
    "version": 3
   },
   "file_extension": ".py",
   "mimetype": "text/x-python",
   "name": "python",
   "nbconvert_exporter": "python",
   "pygments_lexer": "ipython3",
   "version": "3.10.0"
  }
 },
 "nbformat": 4,
 "nbformat_minor": 5
}
