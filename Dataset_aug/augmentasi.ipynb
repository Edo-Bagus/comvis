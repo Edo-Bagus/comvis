{
 "cells": [
  {
   "cell_type": "code",
   "execution_count": 2,
   "id": "800ac48f",
   "metadata": {},
   "outputs": [
    {
     "name": "stderr",
     "output_type": "stream",
     "text": [
      "C:\\Users\\USER\\AppData\\Local\\Temp\\ipykernel_4700\\70486401.py:12: UserWarning: Argument(s) 'border_mode' are not valid for transform RandomScale\n",
      "  RandomScale(scale_limit=0.2, p=1, border_mode=cv2.BORDER_REFLECT_101)\n"
     ]
    },
    {
     "name": "stdout",
     "output_type": "stream",
     "text": [
      "📊 Distribusi awal di train: {4: 88, 2: 46, 1: 45, 3: 37, 0: 24}\n"
     ]
    },
    {
     "name": "stderr",
     "output_type": "stream",
     "text": [
      "100%|██████████| 200/200 [00:03<00:00, 65.35it/s]"
     ]
    },
    {
     "name": "stdout",
     "output_type": "stream",
     "text": [
      "✅ Selesai augmentasi.\n",
      "📊 Distribusi setelah augmentasi: {1: 88, 2: 88, 3: 88, 4: 88, 0: 88}\n"
     ]
    },
    {
     "name": "stderr",
     "output_type": "stream",
     "text": [
      "\n"
     ]
    }
   ],
   "source": [
    "import os\n",
    "import random\n",
    "import cv2\n",
    "import pandas as pd\n",
    "from collections import defaultdict, Counter\n",
    "from albumentations import Compose, Rotate, RandomScale\n",
    "from tqdm import tqdm\n",
    "\n",
    "# Transformasi augmentasi\n",
    "transform = Compose([\n",
    "    Rotate(limit=25, p=1, border_mode=cv2.BORDER_REFLECT_101),\n",
    "    RandomScale(scale_limit=0.2, p=1, border_mode=cv2.BORDER_REFLECT_101)\n",
    "])\n",
    "\n",
    "random.seed(42)\n",
    "\n",
    "def augment_train_balanced(\n",
    "    attention_csv_path,\n",
    "    train_folder,\n",
    "    output_folder,\n",
    "    total_augmented_images=80\n",
    "):\n",
    "    os.makedirs(output_folder, exist_ok=True)\n",
    "\n",
    "    # Load CSV\n",
    "    df = pd.read_csv(attention_csv_path, header=None, names=[\"filename\", \"attention_level\"])\n",
    "    df['attention_level'] = df['attention_level'].astype(int)\n",
    "\n",
    "    # Filter hanya file yang ada di folder train\n",
    "    train_filenames = set(os.listdir(train_folder))\n",
    "    df_train = df[df['filename'].isin(train_filenames)]\n",
    "\n",
    "    # Hitung distribusi awal\n",
    "    attention_counts = df_train['attention_level'].value_counts().to_dict()\n",
    "    print(\"📊 Distribusi awal di train:\", attention_counts)\n",
    "\n",
    "    # Buat mapping level -> list gambar\n",
    "    attention_to_files = defaultdict(list)\n",
    "    for _, row in df_train.iterrows():\n",
    "        attention_to_files[row['attention_level']].append(row['filename'])\n",
    "\n",
    "    # Simpan data augmentasi ke list\n",
    "    augmented_rows = []\n",
    "    current_counts = Counter(attention_counts)\n",
    "\n",
    "    pbar = tqdm(total=total_augmented_images)\n",
    "    aug_count = 0\n",
    "\n",
    "    while aug_count < total_augmented_images:\n",
    "        # Cari level dengan jumlah data terkini paling sedikit\n",
    "        level = min(current_counts.items(), key=lambda x: x[1])[0]\n",
    "        candidates = attention_to_files[level]\n",
    "\n",
    "        if not candidates:\n",
    "            continue\n",
    "\n",
    "        img_name = random.choice(candidates)\n",
    "        img_path = os.path.join(train_folder, img_name)\n",
    "        image = cv2.imread(img_path)\n",
    "\n",
    "        if image is None:\n",
    "            print(f\"⚠️ Gagal baca: {img_path}\")\n",
    "            continue\n",
    "\n",
    "        augmented = transform(image=image)\n",
    "        aug_img = augmented[\"image\"]\n",
    "\n",
    "        # Simpan hasil augmentasi\n",
    "        aug_name = f\"{os.path.splitext(img_name)[0]}_aug_{aug_count}.png\"\n",
    "        output_path = os.path.join(output_folder, aug_name)\n",
    "        cv2.imwrite(output_path, aug_img)\n",
    "\n",
    "        augmented_rows.append({\"filename\": aug_name, \"attention_level\": level})\n",
    "        current_counts[level] += 1\n",
    "\n",
    "        aug_count += 1\n",
    "        pbar.update(1)\n",
    "\n",
    "    pbar.close()\n",
    "\n",
    "    # Gabungkan data asli dan augmentasi\n",
    "    df_aug = pd.DataFrame(augmented_rows)\n",
    "    df_combined = pd.concat([df_train[[\"filename\", \"attention_level\"]], df_aug], ignore_index=True)\n",
    "\n",
    "    # Distribusi akhir\n",
    "    final_counts = df_combined['attention_level'].value_counts().to_dict()\n",
    "    print(\"✅ Selesai augmentasi.\")\n",
    "    print(\"📊 Distribusi setelah augmentasi:\", final_counts)\n",
    "\n",
    "# Contoh penggunaan\n",
    "augment_train_balanced(\n",
    "    attention_csv_path='./attention.csv',\n",
    "    train_folder='./train',\n",
    "    output_folder='./train_aug',\n",
    "    total_augmented_images=200\n",
    ")\n"
   ]
  }
 ],
 "metadata": {
  "kernelspec": {
   "display_name": ".venv",
   "language": "python",
   "name": "python3"
  },
  "language_info": {
   "codemirror_mode": {
    "name": "ipython",
    "version": 3
   },
   "file_extension": ".py",
   "mimetype": "text/x-python",
   "name": "python",
   "nbconvert_exporter": "python",
   "pygments_lexer": "ipython3",
   "version": "3.10.0"
  }
 },
 "nbformat": 4,
 "nbformat_minor": 5
}
