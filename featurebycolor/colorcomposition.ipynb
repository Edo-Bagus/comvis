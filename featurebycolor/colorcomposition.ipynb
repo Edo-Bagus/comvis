{
 "cells": [
  {
   "cell_type": "code",
   "execution_count": 1,
   "id": "2bd8e63f",
   "metadata": {},
   "outputs": [],
   "source": [
    "import cv2\n",
    "import numpy as np\n",
    "from sklearn.cluster import KMeans\n",
    "\n",
    "def dominant_colors(image_path, n_colors=3):\n",
    "    img = cv2.imread(image_path)\n",
    "    img_rgb = cv2.cvtColor(img, cv2.COLOR_BGR2RGB)  # convert to RGB\n",
    "\n",
    "    # Reshape image into a 2D array of pixels\n",
    "    pixels = img_rgb.reshape(-1, 3)\n",
    "\n",
    "    # Apply KMeans clustering\n",
    "    kmeans = KMeans(n_clusters=n_colors)\n",
    "    kmeans.fit(pixels)\n",
    "\n",
    "    # Get the top dominant colors (in RGB and HSV)\n",
    "    dominant_rgb = kmeans.cluster_centers_.astype(int)\n",
    "    dominant_hsv = cv2.cvtColor(np.uint8([dominant_rgb]), cv2.COLOR_RGB2HSV)[0]\n",
    "\n",
    "    return dominant_rgb, dominant_hsv\n"
   ]
  },
  {
   "cell_type": "code",
   "execution_count": 2,
   "id": "3bff44e6",
   "metadata": {},
   "outputs": [],
   "source": [
    "def color_temperature_proportion(image_path):\n",
    "    img = cv2.imread(image_path)\n",
    "    img_rgb = cv2.cvtColor(img, cv2.COLOR_BGR2RGB)  # convert to RGB\n",
    "\n",
    "    # Tentukan batasan untuk warna hangat (R > G > B) dan dingin (B > G > R)\n",
    "    warm_pixels = np.sum((img_rgb[:, :, 0] > img_rgb[:, :, 1]) & (img_rgb[:, :, 0] > img_rgb[:, :, 2]))\n",
    "    cold_pixels = np.sum((img_rgb[:, :, 2] > img_rgb[:, :, 0]) & (img_rgb[:, :, 2] > img_rgb[:, :, 1]))\n",
    "\n",
    "    total_pixels = img_rgb.shape[0] * img_rgb.shape[1]\n",
    "    \n",
    "    warm_percentage = (warm_pixels / total_pixels) * 100\n",
    "    cold_percentage = (cold_pixels / total_pixels) * 100\n",
    "\n",
    "    return warm_percentage, cold_percentage\n"
   ]
  },
  {
   "cell_type": "code",
   "execution_count": 3,
   "id": "3228e07e",
   "metadata": {},
   "outputs": [],
   "source": [
    "def unique_colors_count(image_path):\n",
    "    img = cv2.imread(image_path)\n",
    "    img_rgb = cv2.cvtColor(img, cv2.COLOR_BGR2RGB)  # convert to RGB\n",
    "\n",
    "    # Reshape the image and remove duplicates to count unique colors\n",
    "    unique_colors = np.unique(img_rgb.reshape(-1, img_rgb.shape[2]), axis=0)\n",
    "\n",
    "    return len(unique_colors)\n"
   ]
  },
  {
   "cell_type": "code",
   "execution_count": 4,
   "id": "70230a88",
   "metadata": {},
   "outputs": [],
   "source": [
    "def quantize_colors(image_path, n_clusters=16):\n",
    "    img = cv2.imread(image_path)\n",
    "    img_rgb = cv2.cvtColor(img, cv2.COLOR_BGR2RGB)  # convert to RGB\n",
    "\n",
    "    # Reshape image into a 2D array of pixels\n",
    "    pixels = img_rgb.reshape(-1, 3)\n",
    "\n",
    "    # Apply KMeans to quantize the image colors\n",
    "    kmeans = KMeans(n_clusters=n_clusters)\n",
    "    kmeans.fit(pixels)\n",
    "    \n",
    "    # Get the quantized colors (centroids)\n",
    "    quantized_colors = np.unique(kmeans.labels_, return_counts=True)\n",
    "\n",
    "    return len(quantized_colors[0])\n"
   ]
  },
  {
   "cell_type": "code",
   "execution_count": null,
   "id": "cb64e2f3",
   "metadata": {},
   "outputs": [],
   "source": [
    "import os\n",
    "import pandas as pd\n",
    "\n",
    "def extract_all_features(image_path):\n",
    "    # Mengambil fitur dari setiap fungsi\n",
    "    dominant_rgb, dominant_hsv = dominant_colors(image_path)\n",
    "    warm_percentage, cold_percentage = color_temperature_proportion(image_path)\n",
    "    unique_colors = unique_colors_count(image_path)\n",
    "    quantized_colors = quantize_colors(image_path)\n",
    "\n",
    "    # Memastikan output berupa array 1D untuk RGB dan HSV\n",
    "    return {\n",
    "        'image_name': os.path.splitext(os.path.basename(image_path))[0],  # nama gambar tanpa ekstensi\n",
    "        'dominant_rgb': dominant_rgb,  # Tetap berupa array 1D (3 nilai)\n",
    "        'dominant_hsv': dominant_hsv,  # Tetap berupa array 1D (3 nilai)\n",
    "        'warm_percentage': warm_percentage,\n",
    "        'cold_percentage': cold_percentage,\n",
    "        'unique_colors': unique_colors,\n",
    "        'quantized_colors': quantized_colors\n",
    "    }\n",
    "\n",
    "def process_images_to_csv(folder_path, output_csv):\n",
    "    image_features = []\n",
    "\n",
    "    # Memproses semua gambar dalam folder\n",
    "    for filename in sorted(os.listdir(folder_path), key=lambda x: (x.isdigit(), x)):\n",
    "        # Hanya proses file gambar yang memiliki ekstensi .png, .jpg, atau .jpeg\n",
    "        if filename.lower().endswith(('.png', '.jpg', '.jpeg')) and filename != '.DS_Store':\n",
    "            image_path = os.path.join(folder_path, filename)\n",
    "            features = extract_all_features(image_path)\n",
    "            image_features.append(features)\n",
    "\n",
    "    # Membuat DataFrame dan menyimpan ke CSV\n",
    "    df = pd.DataFrame(image_features)\n",
    "\n",
    "    # Memisahkan fitur RGB dan HSV menjadi kolom individual\n",
    "    # Pastikan bahwa setiap nilai RGB dan HSV adalah array 1D dengan 3 nilai\n",
    "    rgb_values = []\n",
    "    hsv_values = []\n",
    "\n",
    "    for idx, row in df.iterrows():\n",
    "        rgb_values.append(row['dominant_rgb'])\n",
    "        hsv_values.append(row['dominant_hsv'])\n",
    "\n",
    "    # Jika nilai dalam 'dominant_rgb' dan 'dominant_hsv' berupa list 1D yang valid\n",
    "    rgb_df = pd.DataFrame(rgb_values, columns=[f'dominant_rgb_{i}' for i in range(3)])\n",
    "    hsv_df = pd.DataFrame(hsv_values, columns=[f'dominant_hsv_{i}' for i in range(3)])\n",
    "\n",
    "    # Gabungkan dengan DataFrame yang lain\n",
    "    df = pd.concat([df.drop(['dominant_rgb', 'dominant_hsv'], axis=1), rgb_df, hsv_df], axis=1)\n",
    "\n",
    "    # Simpan ke CSV\n",
    "    df.to_csv(output_csv, index=False)\n",
    "    print(f\"✅ CSV disimpan ke: {output_csv}\")\n"
   ]
  },
  {
   "cell_type": "code",
   "execution_count": 17,
   "id": "6890468f",
   "metadata": {},
   "outputs": [
    {
     "ename": "ValueError",
     "evalue": "Must pass 2-d input. shape=(300, 3, 3)",
     "output_type": "error",
     "traceback": [
      "\u001b[31m---------------------------------------------------------------------------\u001b[39m",
      "\u001b[31mValueError\u001b[39m                                Traceback (most recent call last)",
      "\u001b[36mCell\u001b[39m\u001b[36m \u001b[39m\u001b[32mIn[17]\u001b[39m\u001b[32m, line 4\u001b[39m\n\u001b[32m      1\u001b[39m folder_path = \u001b[33m'\u001b[39m\u001b[33m../Datasets/datasets\u001b[39m\u001b[33m'\u001b[39m  \n\u001b[32m      2\u001b[39m output_csv = \u001b[33m'\u001b[39m\u001b[33mcolor_composition.csv\u001b[39m\u001b[33m'\u001b[39m\n\u001b[32m----> \u001b[39m\u001b[32m4\u001b[39m \u001b[43mprocess_images_to_csv\u001b[49m\u001b[43m(\u001b[49m\u001b[43mfolder_path\u001b[49m\u001b[43m,\u001b[49m\u001b[43m \u001b[49m\u001b[43moutput_csv\u001b[49m\u001b[43m)\u001b[49m\n",
      "\u001b[36mCell\u001b[39m\u001b[36m \u001b[39m\u001b[32mIn[15]\u001b[39m\u001b[32m, line 43\u001b[39m, in \u001b[36mprocess_images_to_csv\u001b[39m\u001b[34m(folder_path, output_csv)\u001b[39m\n\u001b[32m     39\u001b[39m hsv_columns = [\u001b[33mf\u001b[39m\u001b[33m'\u001b[39m\u001b[33mdominant_hsv_\u001b[39m\u001b[38;5;132;01m{\u001b[39;00mi\u001b[38;5;132;01m}\u001b[39;00m\u001b[33m'\u001b[39m \u001b[38;5;28;01mfor\u001b[39;00m i \u001b[38;5;129;01min\u001b[39;00m \u001b[38;5;28mrange\u001b[39m(\u001b[32m3\u001b[39m)]\n\u001b[32m     41\u001b[39m \u001b[38;5;66;03m# Memisahkan kolom RGB dan HSV menjadi 3 kolom individual\u001b[39;00m\n\u001b[32m     42\u001b[39m \u001b[38;5;66;03m# Periksa bentuk data sebelum memasukkan ke dalam DataFrame\u001b[39;00m\n\u001b[32m---> \u001b[39m\u001b[32m43\u001b[39m rgb_values = \u001b[43mpd\u001b[49m\u001b[43m.\u001b[49m\u001b[43mDataFrame\u001b[49m\u001b[43m(\u001b[49m\u001b[43mdf\u001b[49m\u001b[43m[\u001b[49m\u001b[33;43m'\u001b[39;49m\u001b[33;43mdominant_rgb\u001b[39;49m\u001b[33;43m'\u001b[39;49m\u001b[43m]\u001b[49m\u001b[43m.\u001b[49m\u001b[43mtolist\u001b[49m\u001b[43m(\u001b[49m\u001b[43m)\u001b[49m\u001b[43m,\u001b[49m\u001b[43m \u001b[49m\u001b[43mcolumns\u001b[49m\u001b[43m=\u001b[49m\u001b[43mrgb_columns\u001b[49m\u001b[43m)\u001b[49m\n\u001b[32m     44\u001b[39m hsv_values = pd.DataFrame(df[\u001b[33m'\u001b[39m\u001b[33mdominant_hsv\u001b[39m\u001b[33m'\u001b[39m].tolist(), columns=hsv_columns)\n\u001b[32m     46\u001b[39m \u001b[38;5;66;03m# Gabungkan dengan kolom lain (memastikan tidak ada konflik)\u001b[39;00m\n",
      "\u001b[36mFile \u001b[39m\u001b[32md:\\UGM\\Kuliah\\SEMESTER 6\\PENGOLAHAN CITRA DAN VISI KOMPUTER\\comvis\\.venv\\Lib\\site-packages\\pandas\\core\\frame.py:867\u001b[39m, in \u001b[36mDataFrame.__init__\u001b[39m\u001b[34m(self, data, index, columns, dtype, copy)\u001b[39m\n\u001b[32m    859\u001b[39m         mgr = arrays_to_mgr(\n\u001b[32m    860\u001b[39m             arrays,\n\u001b[32m    861\u001b[39m             columns,\n\u001b[32m   (...)\u001b[39m\u001b[32m    864\u001b[39m             typ=manager,\n\u001b[32m    865\u001b[39m         )\n\u001b[32m    866\u001b[39m     \u001b[38;5;28;01melse\u001b[39;00m:\n\u001b[32m--> \u001b[39m\u001b[32m867\u001b[39m         mgr = \u001b[43mndarray_to_mgr\u001b[49m\u001b[43m(\u001b[49m\n\u001b[32m    868\u001b[39m \u001b[43m            \u001b[49m\u001b[43mdata\u001b[49m\u001b[43m,\u001b[49m\n\u001b[32m    869\u001b[39m \u001b[43m            \u001b[49m\u001b[43mindex\u001b[49m\u001b[43m,\u001b[49m\n\u001b[32m    870\u001b[39m \u001b[43m            \u001b[49m\u001b[43mcolumns\u001b[49m\u001b[43m,\u001b[49m\n\u001b[32m    871\u001b[39m \u001b[43m            \u001b[49m\u001b[43mdtype\u001b[49m\u001b[43m=\u001b[49m\u001b[43mdtype\u001b[49m\u001b[43m,\u001b[49m\n\u001b[32m    872\u001b[39m \u001b[43m            \u001b[49m\u001b[43mcopy\u001b[49m\u001b[43m=\u001b[49m\u001b[43mcopy\u001b[49m\u001b[43m,\u001b[49m\n\u001b[32m    873\u001b[39m \u001b[43m            \u001b[49m\u001b[43mtyp\u001b[49m\u001b[43m=\u001b[49m\u001b[43mmanager\u001b[49m\u001b[43m,\u001b[49m\n\u001b[32m    874\u001b[39m \u001b[43m        \u001b[49m\u001b[43m)\u001b[49m\n\u001b[32m    875\u001b[39m \u001b[38;5;28;01melse\u001b[39;00m:\n\u001b[32m    876\u001b[39m     mgr = dict_to_mgr(\n\u001b[32m    877\u001b[39m         {},\n\u001b[32m    878\u001b[39m         index,\n\u001b[32m   (...)\u001b[39m\u001b[32m    881\u001b[39m         typ=manager,\n\u001b[32m    882\u001b[39m     )\n",
      "\u001b[36mFile \u001b[39m\u001b[32md:\\UGM\\Kuliah\\SEMESTER 6\\PENGOLAHAN CITRA DAN VISI KOMPUTER\\comvis\\.venv\\Lib\\site-packages\\pandas\\core\\internals\\construction.py:319\u001b[39m, in \u001b[36mndarray_to_mgr\u001b[39m\u001b[34m(values, index, columns, dtype, copy, typ)\u001b[39m\n\u001b[32m    314\u001b[39m     values = _ensure_2d(values)\n\u001b[32m    316\u001b[39m \u001b[38;5;28;01melse\u001b[39;00m:\n\u001b[32m    317\u001b[39m     \u001b[38;5;66;03m# by definition an array here\u001b[39;00m\n\u001b[32m    318\u001b[39m     \u001b[38;5;66;03m# the dtypes will be coerced to a single dtype\u001b[39;00m\n\u001b[32m--> \u001b[39m\u001b[32m319\u001b[39m     values = \u001b[43m_prep_ndarraylike\u001b[49m\u001b[43m(\u001b[49m\u001b[43mvalues\u001b[49m\u001b[43m,\u001b[49m\u001b[43m \u001b[49m\u001b[43mcopy\u001b[49m\u001b[43m=\u001b[49m\u001b[43mcopy_on_sanitize\u001b[49m\u001b[43m)\u001b[49m\n\u001b[32m    321\u001b[39m \u001b[38;5;28;01mif\u001b[39;00m dtype \u001b[38;5;129;01mis\u001b[39;00m \u001b[38;5;129;01mnot\u001b[39;00m \u001b[38;5;28;01mNone\u001b[39;00m \u001b[38;5;129;01mand\u001b[39;00m values.dtype != dtype:\n\u001b[32m    322\u001b[39m     \u001b[38;5;66;03m# GH#40110 see similar check inside sanitize_array\u001b[39;00m\n\u001b[32m    323\u001b[39m     values = sanitize_array(\n\u001b[32m    324\u001b[39m         values,\n\u001b[32m    325\u001b[39m         \u001b[38;5;28;01mNone\u001b[39;00m,\n\u001b[32m   (...)\u001b[39m\u001b[32m    328\u001b[39m         allow_2d=\u001b[38;5;28;01mTrue\u001b[39;00m,\n\u001b[32m    329\u001b[39m     )\n",
      "\u001b[36mFile \u001b[39m\u001b[32md:\\UGM\\Kuliah\\SEMESTER 6\\PENGOLAHAN CITRA DAN VISI KOMPUTER\\comvis\\.venv\\Lib\\site-packages\\pandas\\core\\internals\\construction.py:582\u001b[39m, in \u001b[36m_prep_ndarraylike\u001b[39m\u001b[34m(values, copy)\u001b[39m\n\u001b[32m    579\u001b[39m \u001b[38;5;28;01melse\u001b[39;00m:\n\u001b[32m    580\u001b[39m     values = convert(values)\n\u001b[32m--> \u001b[39m\u001b[32m582\u001b[39m \u001b[38;5;28;01mreturn\u001b[39;00m \u001b[43m_ensure_2d\u001b[49m\u001b[43m(\u001b[49m\u001b[43mvalues\u001b[49m\u001b[43m)\u001b[49m\n",
      "\u001b[36mFile \u001b[39m\u001b[32md:\\UGM\\Kuliah\\SEMESTER 6\\PENGOLAHAN CITRA DAN VISI KOMPUTER\\comvis\\.venv\\Lib\\site-packages\\pandas\\core\\internals\\construction.py:592\u001b[39m, in \u001b[36m_ensure_2d\u001b[39m\u001b[34m(values)\u001b[39m\n\u001b[32m    590\u001b[39m     values = values.reshape((values.shape[\u001b[32m0\u001b[39m], \u001b[32m1\u001b[39m))\n\u001b[32m    591\u001b[39m \u001b[38;5;28;01melif\u001b[39;00m values.ndim != \u001b[32m2\u001b[39m:\n\u001b[32m--> \u001b[39m\u001b[32m592\u001b[39m     \u001b[38;5;28;01mraise\u001b[39;00m \u001b[38;5;167;01mValueError\u001b[39;00m(\u001b[33mf\u001b[39m\u001b[33m\"\u001b[39m\u001b[33mMust pass 2-d input. shape=\u001b[39m\u001b[38;5;132;01m{\u001b[39;00mvalues.shape\u001b[38;5;132;01m}\u001b[39;00m\u001b[33m\"\u001b[39m)\n\u001b[32m    593\u001b[39m \u001b[38;5;28;01mreturn\u001b[39;00m values\n",
      "\u001b[31mValueError\u001b[39m: Must pass 2-d input. shape=(300, 3, 3)"
     ]
    }
   ],
   "source": [
    "folder_path = '../Datasets/datasets'  \n",
    "output_csv = 'color_composition.csv'\n",
    "\n",
    "process_images_to_csv(folder_path, output_csv)"
   ]
  }
 ],
 "metadata": {
  "kernelspec": {
   "display_name": ".venv",
   "language": "python",
   "name": "python3"
  },
  "language_info": {
   "codemirror_mode": {
    "name": "ipython",
    "version": 3
   },
   "file_extension": ".py",
   "mimetype": "text/x-python",
   "name": "python",
   "nbconvert_exporter": "python",
   "pygments_lexer": "ipython3",
   "version": "3.11.9"
  }
 },
 "nbformat": 4,
 "nbformat_minor": 5
}
