{
 "cells": [
  {
   "cell_type": "code",
   "execution_count": null,
   "id": "2bd8e63f",
   "metadata": {},
   "outputs": [
    {
     "data": {
      "text/plain": [
       "([113, 103, 148], [127, 78, 148])"
      ]
     },
     "execution_count": 1,
     "metadata": {},
     "output_type": "execute_result"
    }
   ],
   "source": [
    "import cv2\n",
    "import numpy as np\n",
    "from sklearn.cluster import KMeans\n",
    "\n",
    "def dominant_colors(image_path, n_colors=3):\n",
    "    img = cv2.imread(image_path)\n",
    "    img_rgb = cv2.cvtColor(img, cv2.COLOR_BGR2RGB)\n",
    "\n",
    "    pixels = img_rgb.reshape(-1, 3)\n",
    "\n",
    "    kmeans = KMeans(n_clusters=n_colors, n_init=10)\n",
    "    kmeans.fit(pixels)\n",
    "\n",
    "    counts = np.bincount(kmeans.labels_)\n",
    "    dominant_idx = np.argmax(counts)\n",
    "\n",
    "    dominant_rgb = kmeans.cluster_centers_[dominant_idx].astype(int)\n",
    "    dominant_hsv = cv2.cvtColor(np.uint8([[dominant_rgb]]), cv2.COLOR_RGB2HSV)[0][0]\n",
    "\n",
    "    return dominant_rgb.tolist(), dominant_hsv.tolist()\n"
   ]
  },
  {
   "cell_type": "code",
   "execution_count": 2,
   "id": "3bff44e6",
   "metadata": {},
   "outputs": [],
   "source": [
    "def color_temperature_proportion(image_path):\n",
    "    img = cv2.imread(image_path)\n",
    "    img_rgb = cv2.cvtColor(img, cv2.COLOR_BGR2RGB)  # convert to RGB\n",
    "\n",
    "    # Tentukan batasan untuk warna hangat (R > G > B) dan dingin (B > G > R)\n",
    "    warm_pixels = np.sum((img_rgb[:, :, 0] > img_rgb[:, :, 1]) & (img_rgb[:, :, 0] > img_rgb[:, :, 2]))\n",
    "    cold_pixels = np.sum((img_rgb[:, :, 2] > img_rgb[:, :, 0]) & (img_rgb[:, :, 2] > img_rgb[:, :, 1]))\n",
    "\n",
    "    total_pixels = img_rgb.shape[0] * img_rgb.shape[1]\n",
    "    \n",
    "    warm_percentage = (warm_pixels / total_pixels) * 100\n",
    "    cold_percentage = (cold_pixels / total_pixels) * 100\n",
    "\n",
    "    return warm_percentage, cold_percentage\n"
   ]
  },
  {
   "cell_type": "code",
   "execution_count": 3,
   "id": "3228e07e",
   "metadata": {},
   "outputs": [],
   "source": [
    "def unique_colors_count(image_path):\n",
    "    img = cv2.imread(image_path)\n",
    "    img_rgb = cv2.cvtColor(img, cv2.COLOR_BGR2RGB)  # convert to RGB\n",
    "\n",
    "    # Reshape the image and remove duplicates to count unique colors\n",
    "    unique_colors = np.unique(img_rgb.reshape(-1, img_rgb.shape[2]), axis=0)\n",
    "\n",
    "    return len(unique_colors)\n"
   ]
  },
  {
   "cell_type": "code",
   "execution_count": 4,
   "id": "70230a88",
   "metadata": {},
   "outputs": [],
   "source": [
    "def quantize_colors(image_path, n_clusters=16):\n",
    "    img = cv2.imread(image_path)\n",
    "    img_rgb = cv2.cvtColor(img, cv2.COLOR_BGR2RGB)  # convert to RGB\n",
    "\n",
    "    # Reshape image into a 2D array of pixels\n",
    "    pixels = img_rgb.reshape(-1, 3)\n",
    "\n",
    "    # Apply KMeans to quantize the image colors\n",
    "    kmeans = KMeans(n_clusters=n_clusters)\n",
    "    kmeans.fit(pixels)\n",
    "    \n",
    "    # Get the quantized colors (centroids)\n",
    "    quantized_colors = np.unique(kmeans.labels_, return_counts=True)\n",
    "\n",
    "    return len(quantized_colors[0])\n"
   ]
  },
  {
   "cell_type": "code",
   "execution_count": 5,
   "id": "cb64e2f3",
   "metadata": {},
   "outputs": [],
   "source": [
    "import os\n",
    "import pandas as pd\n",
    "\n",
    "def extract_all_features(image_path):\n",
    "    # Mengambil fitur dari setiap fungsi\n",
    "    dominant_rgb, dominant_hsv = dominant_colors(image_path)\n",
    "    warm_percentage, cold_percentage = color_temperature_proportion(image_path)\n",
    "    unique_colors = unique_colors_count(image_path)\n",
    "    quantized_colors = quantize_colors(image_path)\n",
    "\n",
    "    # Memastikan output berupa array 1D untuk RGB dan HSV\n",
    "    return {\n",
    "        'image_name': os.path.splitext(os.path.basename(image_path))[0],  # nama gambar tanpa ekstensi\n",
    "        'dominant_rgb': dominant_rgb,  # Tetap berupa array 1D (3 nilai)\n",
    "        'dominant_hsv': dominant_hsv,  # Tetap berupa array 1D (3 nilai)\n",
    "        'warm_percentage': warm_percentage,\n",
    "        'cold_percentage': cold_percentage,\n",
    "        'unique_colors': unique_colors,\n",
    "        'quantized_colors': quantized_colors\n",
    "    }\n",
    "\n",
    "def process_images_to_csv(folder_path, output_csv):\n",
    "    image_features = []\n",
    "\n",
    "    # Memproses semua gambar dalam folder\n",
    "    for filename in sorted(os.listdir(folder_path), key=lambda x: (x.isdigit(), x)):\n",
    "        # Hanya proses file gambar yang memiliki ekstensi .png, .jpg, atau .jpeg\n",
    "        if filename.lower().endswith(('.png', '.jpg', '.jpeg')) and filename != '.DS_Store':\n",
    "            image_path = os.path.join(folder_path, filename)\n",
    "            features = extract_all_features(image_path)\n",
    "            image_features.append(features)\n",
    "\n",
    "    # Membuat DataFrame dan menyimpan ke CSV\n",
    "    df = pd.DataFrame(image_features)\n",
    "\n",
    "    # Memisahkan fitur RGB dan HSV menjadi kolom individual\n",
    "    # Pastikan bahwa setiap nilai RGB dan HSV adalah array 1D dengan 3 nilai\n",
    "    rgb_values = []\n",
    "    hsv_values = []\n",
    "\n",
    "    for idx, row in df.iterrows():\n",
    "        rgb_values.append(row['dominant_rgb'])\n",
    "        hsv_values.append(row['dominant_hsv'])\n",
    "\n",
    "    # Jika nilai dalam 'dominant_rgb' dan 'dominant_hsv' berupa list 1D yang valid\n",
    "    rgb_df = pd.DataFrame(rgb_values, columns=[f'dominant_rgb_{i}' for i in range(3)])\n",
    "    hsv_df = pd.DataFrame(hsv_values, columns=[f'dominant_hsv_{i}' for i in range(3)])\n",
    "\n",
    "    # Gabungkan dengan DataFrame yang lain\n",
    "    df = pd.concat([df.drop(['dominant_rgb', 'dominant_hsv'], axis=1), rgb_df, hsv_df], axis=1)\n",
    "\n",
    "    # Simpan ke CSV\n",
    "    df.to_csv(output_csv, index=False)\n",
    "    print(f\"✅ CSV disimpan ke: {output_csv}\")\n"
   ]
  },
  {
   "cell_type": "code",
   "execution_count": 6,
   "id": "6890468f",
   "metadata": {},
   "outputs": [
    {
     "name": "stdout",
     "output_type": "stream",
     "text": [
      "✅ CSV disimpan ke: color_composition.csv\n"
     ]
    }
   ],
   "source": [
    "folder_path = '../datasets'  \n",
    "output_csv = 'color_composition.csv'\n",
    "\n",
    "process_images_to_csv(folder_path, output_csv)"
   ]
  }
 ],
 "metadata": {
  "kernelspec": {
   "display_name": ".venv",
   "language": "python",
   "name": "python3"
  },
  "language_info": {
   "codemirror_mode": {
    "name": "ipython",
    "version": 3
   },
   "file_extension": ".py",
   "mimetype": "text/x-python",
   "name": "python",
   "nbconvert_exporter": "python",
   "pygments_lexer": "ipython3",
   "version": "3.10.0"
  }
 },
 "nbformat": 4,
 "nbformat_minor": 5
}
