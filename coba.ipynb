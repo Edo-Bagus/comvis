{
 "cells": [
  {
   "cell_type": "code",
   "execution_count": 8,
   "id": "dd0ae6f9",
   "metadata": {},
   "outputs": [
    {
     "name": "stdout",
     "output_type": "stream",
     "text": [
      "Warna Background: [32 20 23]\n",
      "Warna Teks: [131 127 128]\n",
      "Rasio Kontras (WCAG): 3.96\n"
     ]
    },
    {
     "data": {
      "text/plain": [
       "np.float64(3.960622561082049)"
      ]
     },
     "execution_count": 8,
     "metadata": {},
     "output_type": "execute_result"
    }
   ],
   "source": [
    "import cv2\n",
    "import numpy as np\n",
    "from sklearn.cluster import KMeans\n",
    "import os\n",
    "\n",
    "def luminance(rgb):\n",
    "    r, g, b = rgb / 255.0\n",
    "    return 0.2126 * r + 0.7152 * g + 0.0722 * b\n",
    "\n",
    "def contrast_ratio(rgb1, rgb2):\n",
    "    L1 = luminance(np.array(rgb1))\n",
    "    L2 = luminance(np.array(rgb2))\n",
    "    return (max(L1, L2) + 0.05) / (min(L1, L2) + 0.05)\n",
    "\n",
    "def extract_dominant_colors(img, k=2):\n",
    "    # Resize for performance\n",
    "    img_small = cv2.resize(img, (100, 100))\n",
    "    pixels = img_small.reshape((-1, 3))\n",
    "\n",
    "    kmeans = KMeans(n_clusters=k, n_init=10)\n",
    "    kmeans.fit(pixels)\n",
    "    colors = kmeans.cluster_centers_.astype(int)\n",
    "\n",
    "    return colors\n",
    "\n",
    "def analyze_contrast(image_path):\n",
    "    img = cv2.imread(image_path)\n",
    "    img = cv2.cvtColor(img, cv2.COLOR_BGR2RGB)\n",
    "\n",
    "    dominant_colors = extract_dominant_colors(img, k=2)\n",
    "\n",
    "    # Anggap warna pertama adalah background, kedua teks\n",
    "    bg_color = dominant_colors[0]\n",
    "    text_color = dominant_colors[1]\n",
    "\n",
    "    contrast = contrast_ratio(bg_color, text_color)\n",
    "\n",
    "    print(f\"Warna Background: {bg_color}\")\n",
    "    print(f\"Warna Teks: {text_color}\")\n",
    "    print(f\"Rasio Kontras (WCAG): {contrast:.2f}\")\n",
    "\n",
    "    return contrast\n",
    "\n",
    "# Contoh penggunaan\n",
    "image_path = 'Datasets/datasets/15.png'\n",
    "analyze_contrast(image_path)\n"
   ]
  }
 ],
 "metadata": {
  "kernelspec": {
   "display_name": ".venv",
   "language": "python",
   "name": "python3"
  },
  "language_info": {
   "codemirror_mode": {
    "name": "ipython",
    "version": 3
   },
   "file_extension": ".py",
   "mimetype": "text/x-python",
   "name": "python",
   "nbconvert_exporter": "python",
   "pygments_lexer": "ipython3",
   "version": "3.11.9"
  }
 },
 "nbformat": 4,
 "nbformat_minor": 5
}
