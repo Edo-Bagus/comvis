{
 "cells": [
  {
   "cell_type": "code",
   "execution_count": 1,
   "id": "edada46c",
   "metadata": {},
   "outputs": [],
   "source": [
    "import pandas as pd\n",
    "\n",
    "column_names = ['Image', 'Attention']\n",
    "\n",
    "df1 = pd.read_csv('attention.csv', header=None, names=column_names)\n",
    "df2 = pd.read_csv('./featurebycolor/color_stats.csv')\n",
    "df3 = pd.read_csv('./featurebycolor/contrast_features.csv')\n",
    "df4 = pd.read_csv('./featurebyshape/shape_features.csv')"
   ]
  },
  {
   "cell_type": "code",
   "execution_count": 2,
   "id": "f27de2ab",
   "metadata": {},
   "outputs": [],
   "source": [
    "import os\n",
    "\n",
    "df1.rename(columns={'Image': 'image_name'}, inplace=True)\n",
    "df1['image_name'] = df1['image_name'].apply(lambda x: int(os.path.splitext(x.split('/')[-1])[0]))\n",
    "df4['image_name'] = df4['image_name'].apply(lambda x: int(os.path.splitext(x.split('/')[-1])[0]))\n"
   ]
  },
  {
   "cell_type": "code",
   "execution_count": 3,
   "id": "ce096844",
   "metadata": {},
   "outputs": [],
   "source": [
    "# Menggabungkan df1 dan df2\n",
    "merged_df = pd.merge(df1, df2, on='image_name', how='inner')\n",
    "\n",
    "# Menggabungkan hasilnya dengan df3\n",
    "merged_df = pd.merge(merged_df, df3, on='image_name', how='inner')\n",
    "\n",
    "# Menggabungkan hasilnya dengan df4\n",
    "merged_df = pd.merge(merged_df, df4, on='image_name', how='inner')\n"
   ]
  },
  {
   "cell_type": "code",
   "execution_count": 4,
   "id": "d909ee32",
   "metadata": {},
   "outputs": [],
   "source": [
    "merged_df = merged_df.dropna()"
   ]
  },
  {
   "cell_type": "code",
   "execution_count": 5,
   "id": "94651edb",
   "metadata": {},
   "outputs": [],
   "source": [
    "import ast\n",
    "\n",
    "def expand_list_column(df, list_column):\n",
    "    # Konversi string menjadi list\n",
    "    df[list_column] = df[list_column].apply(ast.literal_eval)\n",
    "    \n",
    "    # Pisahkan list menjadi kolom terpisah dan tambahkan ke dataframe\n",
    "    for i in range(8):  # Asumsi list panjangnya 8\n",
    "        df[f'{list_column}_col_{i+1}'] = df[list_column].apply(lambda x: x[i] if len(x) > i else None)\n",
    "\n",
    "    # Hapus kolom asli jika tidak diperlukan\n",
    "    df = df.drop(columns=[list_column])\n",
    "    \n",
    "    return df\n",
    "\n",
    "# Terapkan fungsi\n",
    "merged_df = expand_list_column(merged_df, 'edge_orientation_histogram')\n",
    "merged_df = merged_df.drop(columns=['image_name'])\n"
   ]
  },
  {
   "cell_type": "code",
   "execution_count": 6,
   "id": "03550f4c",
   "metadata": {},
   "outputs": [],
   "source": [
    "merged_df = merged_df.dropna()"
   ]
  },
  {
   "cell_type": "code",
   "execution_count": 7,
   "id": "e1a36448",
   "metadata": {},
   "outputs": [],
   "source": [
    "from sklearn.preprocessing import LabelEncoder\n",
    "\n",
    "# Kolom kategorikal yang perlu diproses\n",
    "categorical_columns = ['dominant_text_position', 'font_variety_estimation', 'readability']\n",
    "\n",
    "# Label Encoding untuk kolom yang memiliki urutan\n",
    "label_encoder = LabelEncoder()\n",
    "\n",
    "# Lakukan Label Encoding pada kolom kategorikal dan ubah menjadi tipe int\n",
    "for col in categorical_columns:\n",
    "    merged_df[col] = label_encoder.fit_transform(merged_df[col].astype(str))\n",
    "\n",
    "# Pastikan tipe data kolom menjadi int\n",
    "merged_df[categorical_columns] = merged_df[categorical_columns].astype(int)\n"
   ]
  },
  {
   "cell_type": "code",
   "execution_count": 8,
   "id": "c6cdfb0b",
   "metadata": {},
   "outputs": [
    {
     "name": "stdout",
     "output_type": "stream",
     "text": [
      "Distribusi kelas: Attention\n",
      "4    83\n",
      "1    49\n",
      "2    44\n",
      "3    37\n",
      "0    25\n",
      "Name: count, dtype: int64\n"
     ]
    }
   ],
   "source": [
    "from imblearn.over_sampling import SMOTE\n",
    "from imblearn.under_sampling import RandomUnderSampler\n",
    "from sklearn.model_selection import train_test_split\n",
    "\n",
    "# Pisahkan fitur dan target\n",
    "X = merged_df.drop(columns=['Attention'])\n",
    "y = merged_df['Attention']\n",
    "\n",
    "# Membagi data menjadi data latih dan data uji (80% latih, 20% uji)\n",
    "X_train, X_test, y_train, y_test = train_test_split(X, y, test_size=0.2, random_state=42)\n",
    "\n",
    "print(\"Distribusi kelas:\", y_train.value_counts())\n"
   ]
  },
  {
   "cell_type": "code",
   "execution_count": 9,
   "id": "41910d1c",
   "metadata": {},
   "outputs": [
    {
     "name": "stdout",
     "output_type": "stream",
     "text": [
      "Fitting 5 folds for each of 50 candidates, totalling 250 fits\n"
     ]
    },
    {
     "name": "stderr",
     "output_type": "stream",
     "text": [
      "d:\\comvis\\comvis\\.venv\\lib\\site-packages\\xgboost\\training.py:183: UserWarning: [21:32:11] WARNING: C:\\actions-runner\\_work\\xgboost\\xgboost\\src\\learner.cc:738: \n",
      "Parameters: { \"scale_pos_weight\" } are not used.\n",
      "\n",
      "  bst.update(dtrain, iteration=i, fobj=obj)\n"
     ]
    },
    {
     "name": "stdout",
     "output_type": "stream",
     "text": [
      "Best Hyperparameters: {'subsample': 0.9, 'scale_pos_weight': 5, 'n_estimators': 100, 'min_child_weight': 1, 'max_depth': 15, 'learning_rate': 0.1, 'gamma': 0, 'colsample_bytree': 0.8}\n",
      "Akurasi: 0.4166666666666667\n",
      "Laporan Klasifikasi:\n",
      "               precision    recall  f1-score   support\n",
      "\n",
      "           0       0.50      0.25      0.33         4\n",
      "           1       0.09      0.17      0.12         6\n",
      "           2       0.33      0.30      0.32        10\n",
      "           3       0.14      0.10      0.12        10\n",
      "           4       0.61      0.63      0.62        30\n",
      "\n",
      "    accuracy                           0.42        60\n",
      "   macro avg       0.34      0.29      0.30        60\n",
      "weighted avg       0.43      0.42      0.42        60\n",
      "\n"
     ]
    }
   ],
   "source": [
    "import pandas as pd\n",
    "from sklearn.preprocessing import LabelEncoder\n",
    "from sklearn.model_selection import train_test_split, RandomizedSearchCV\n",
    "from xgboost import XGBClassifier\n",
    "from sklearn.metrics import classification_report, accuracy_score\n",
    "import numpy as np\n",
    "\n",
    "# Inisialisasi model XGBoost\n",
    "xgb = XGBClassifier(random_state=42, enable_categorical=False)  # disable categorical mode\n",
    "\n",
    "# Tentukan distribusi hyperparameters yang ingin diuji\n",
    "param_dist = {\n",
    "    'n_estimators': [50, 100, 200, 500],\n",
    "    'max_depth': [3, 6, 10, 15],\n",
    "    'learning_rate': [0.01, 0.1, 0.2, 0.3],\n",
    "    'subsample': [0.8, 0.9, 1.0],\n",
    "    'colsample_bytree': [0.8, 0.9, 1.0],\n",
    "    'gamma': [0, 0.1, 0.3, 0.5],\n",
    "    'min_child_weight': [1, 3, 5],\n",
    "    'scale_pos_weight': [1, 5, 10],  # Menyeimbangkan kelas yang tidak seimbang\n",
    "}\n",
    "\n",
    "# Gunakan RandomizedSearchCV untuk mencari kombinasi hyperparameter terbaik\n",
    "random_search = RandomizedSearchCV(\n",
    "    estimator=xgb, \n",
    "    param_distributions=param_dist, \n",
    "    n_iter=50,  # Jumlah iterasi pencarian\n",
    "    cv=5,  # Cross-validation\n",
    "    n_jobs=-1,  # Gunakan semua core CPU\n",
    "    scoring='accuracy', \n",
    "    verbose=2,\n",
    "    random_state=42\n",
    ")\n",
    "\n",
    "# Latih model dengan RandomizedSearchCV\n",
    "random_search.fit(X_train, y_train)\n",
    "\n",
    "# Tampilkan hyperparameter terbaik yang ditemukan\n",
    "print(\"Best Hyperparameters:\", random_search.best_params_)\n",
    "\n",
    "# Gunakan model terbaik yang ditemukan untuk prediksi\n",
    "best_xgb_random = random_search.best_estimator_\n",
    "y_pred = best_xgb_random.predict(X_test)\n",
    "\n",
    "# Evaluasi model\n",
    "print(\"Akurasi:\", accuracy_score(y_test, y_pred))\n",
    "print(\"Laporan Klasifikasi:\\n\", classification_report(y_test, y_pred))\n"
   ]
  },
  {
   "cell_type": "code",
   "execution_count": 10,
   "id": "6643861c",
   "metadata": {},
   "outputs": [
    {
     "name": "stdout",
     "output_type": "stream",
     "text": [
      "Fitting 5 folds for each of 50 candidates, totalling 250 fits\n",
      "Best Hyperparameters: {'n_estimators': 50, 'min_samples_split': 10, 'min_samples_leaf': 2, 'max_features': 'sqrt', 'max_depth': 30, 'class_weight': None, 'bootstrap': True}\n",
      "Akurasi: 0.5166666666666667\n",
      "Laporan Klasifikasi:\n",
      "               precision    recall  f1-score   support\n",
      "\n",
      "           0       0.50      0.25      0.33         4\n",
      "           1       0.33      0.33      0.33         6\n",
      "           2       0.36      0.40      0.38        10\n",
      "           3       0.00      0.00      0.00        10\n",
      "           4       0.59      0.80      0.68        30\n",
      "\n",
      "    accuracy                           0.52        60\n",
      "   macro avg       0.36      0.36      0.34        60\n",
      "weighted avg       0.42      0.52      0.46        60\n",
      "\n"
     ]
    },
    {
     "name": "stderr",
     "output_type": "stream",
     "text": [
      "d:\\comvis\\comvis\\.venv\\lib\\site-packages\\sklearn\\metrics\\_classification.py:1565: UndefinedMetricWarning: Precision is ill-defined and being set to 0.0 in labels with no predicted samples. Use `zero_division` parameter to control this behavior.\n",
      "  _warn_prf(average, modifier, f\"{metric.capitalize()} is\", len(result))\n",
      "d:\\comvis\\comvis\\.venv\\lib\\site-packages\\sklearn\\metrics\\_classification.py:1565: UndefinedMetricWarning: Precision is ill-defined and being set to 0.0 in labels with no predicted samples. Use `zero_division` parameter to control this behavior.\n",
      "  _warn_prf(average, modifier, f\"{metric.capitalize()} is\", len(result))\n",
      "d:\\comvis\\comvis\\.venv\\lib\\site-packages\\sklearn\\metrics\\_classification.py:1565: UndefinedMetricWarning: Precision is ill-defined and being set to 0.0 in labels with no predicted samples. Use `zero_division` parameter to control this behavior.\n",
      "  _warn_prf(average, modifier, f\"{metric.capitalize()} is\", len(result))\n"
     ]
    }
   ],
   "source": [
    "import pandas as pd\n",
    "from sklearn.preprocessing import LabelEncoder\n",
    "from sklearn.model_selection import train_test_split, RandomizedSearchCV\n",
    "from sklearn.ensemble import RandomForestClassifier\n",
    "from sklearn.metrics import classification_report, accuracy_score\n",
    "import numpy as np\n",
    "\n",
    "# Inisialisasi model Random Forest\n",
    "rf = RandomForestClassifier(random_state=42)\n",
    "\n",
    "# Tentukan distribusi hyperparameters yang ingin diuji\n",
    "param_dist = {\n",
    "    'n_estimators': [50, 100, 200, 500],\n",
    "    'max_depth': [None, 10, 20, 30],\n",
    "    'min_samples_split': [2, 5, 10],\n",
    "    'min_samples_leaf': [1, 2, 4],\n",
    "    'max_features': ['sqrt', 'log2', None],\n",
    "    'bootstrap': [True, False],\n",
    "    'class_weight': [None, 'balanced']  # Menyeimbangkan kelas jika tidak seimbang\n",
    "}\n",
    "\n",
    "# Gunakan RandomizedSearchCV untuk mencari kombinasi hyperparameter terbaik\n",
    "random_search = RandomizedSearchCV(\n",
    "    estimator=rf, \n",
    "    param_distributions=param_dist, \n",
    "    n_iter=50,  # Jumlah iterasi pencarian\n",
    "    cv=5,  # Cross-validation\n",
    "    n_jobs=-1,  # Gunakan semua core CPU\n",
    "    scoring='accuracy', \n",
    "    verbose=2,\n",
    "    random_state=42\n",
    ")\n",
    "\n",
    "# Latih model dengan RandomizedSearchCV\n",
    "random_search.fit(X_train, y_train)\n",
    "\n",
    "# Tampilkan hyperparameter terbaik yang ditemukan\n",
    "print(\"Best Hyperparameters:\", random_search.best_params_)\n",
    "\n",
    "# Gunakan model terbaik yang ditemukan untuk prediksi\n",
    "best_rf = random_search.best_estimator_\n",
    "y_pred = best_rf.predict(X_test)\n",
    "\n",
    "# Evaluasi model\n",
    "print(\"Akurasi:\", accuracy_score(y_test, y_pred))\n",
    "print(\"Laporan Klasifikasi:\\n\", classification_report(y_test, y_pred))\n"
   ]
  },
  {
   "cell_type": "code",
   "execution_count": 11,
   "id": "185dded2",
   "metadata": {},
   "outputs": [
    {
     "name": "stdout",
     "output_type": "stream",
     "text": [
      "Fitting 5 folds for each of 50 candidates, totalling 250 fits\n",
      "Best Hyperparameters: {'weights': 'distance', 'n_neighbors': 25, 'metric': 'manhattan'}\n",
      "Akurasi: 0.43333333333333335\n",
      "Laporan Klasifikasi:\n",
      "               precision    recall  f1-score   support\n",
      "\n",
      "           0       0.17      0.25      0.20         4\n",
      "           1       0.14      0.17      0.15         6\n",
      "           2       0.10      0.10      0.10        10\n",
      "           3       0.00      0.00      0.00        10\n",
      "           4       0.66      0.77      0.71        30\n",
      "\n",
      "    accuracy                           0.43        60\n",
      "   macro avg       0.21      0.26      0.23        60\n",
      "weighted avg       0.37      0.43      0.40        60\n",
      "\n"
     ]
    }
   ],
   "source": [
    "import pandas as pd\n",
    "from sklearn.preprocessing import LabelEncoder\n",
    "from sklearn.model_selection import train_test_split, RandomizedSearchCV\n",
    "from sklearn.neighbors import KNeighborsClassifier\n",
    "from sklearn.metrics import classification_report, accuracy_score\n",
    "import numpy as np\n",
    "\n",
    "# Inisialisasi model KNN\n",
    "knn = KNeighborsClassifier()\n",
    "\n",
    "# Tentukan distribusi hyperparameters\n",
    "param_dist = {\n",
    "    'n_neighbors': list(range(1, 31)),  # Jumlah tetangga\n",
    "    'weights': ['uniform', 'distance'],  # Bobot\n",
    "    'metric': ['euclidean', 'manhattan', 'minkowski']  # Metode pengukuran jarak\n",
    "}\n",
    "\n",
    "# RandomizedSearchCV\n",
    "random_search = RandomizedSearchCV(\n",
    "    estimator=knn,\n",
    "    param_distributions=param_dist,\n",
    "    n_iter=50,\n",
    "    cv=5,\n",
    "    n_jobs=-1,\n",
    "    scoring='accuracy',\n",
    "    verbose=2,\n",
    "    random_state=42\n",
    ")\n",
    "\n",
    "# Latih model\n",
    "random_search.fit(X_train, y_train)\n",
    "\n",
    "# Tampilkan hyperparameter terbaik\n",
    "print(\"Best Hyperparameters:\", random_search.best_params_)\n",
    "\n",
    "# Gunakan model terbaik untuk prediksi\n",
    "best_knn = random_search.best_estimator_\n",
    "y_pred = best_knn.predict(X_test)\n",
    "\n",
    "# Evaluasi\n",
    "print(\"Akurasi:\", accuracy_score(y_test, y_pred))\n",
    "print(\"Laporan Klasifikasi:\\n\", classification_report(y_test, y_pred))\n"
   ]
  },
  {
   "cell_type": "code",
   "execution_count": 12,
   "id": "4af9c0ac",
   "metadata": {},
   "outputs": [
    {
     "name": "stdout",
     "output_type": "stream",
     "text": [
      "Fitting 5 folds for each of 50 candidates, totalling 250 fits\n",
      "Best Hyperparameters: {'solver': 'sgd', 'max_iter': 300, 'learning_rate': 'constant', 'hidden_layer_sizes': (50,), 'alpha': 0.0001, 'activation': 'tanh'}\n",
      "Akurasi: 0.48333333333333334\n",
      "Laporan Klasifikasi:\n",
      "               precision    recall  f1-score   support\n",
      "\n",
      "           0       0.00      0.00      0.00         4\n",
      "           1       0.00      0.00      0.00         6\n",
      "           2       0.00      0.00      0.00        10\n",
      "           3       0.00      0.00      0.00        10\n",
      "           4       0.49      0.97      0.65        30\n",
      "\n",
      "    accuracy                           0.48        60\n",
      "   macro avg       0.10      0.19      0.13        60\n",
      "weighted avg       0.25      0.48      0.33        60\n",
      "\n"
     ]
    },
    {
     "name": "stderr",
     "output_type": "stream",
     "text": [
      "d:\\comvis\\comvis\\.venv\\lib\\site-packages\\sklearn\\metrics\\_classification.py:1565: UndefinedMetricWarning: Precision is ill-defined and being set to 0.0 in labels with no predicted samples. Use `zero_division` parameter to control this behavior.\n",
      "  _warn_prf(average, modifier, f\"{metric.capitalize()} is\", len(result))\n",
      "d:\\comvis\\comvis\\.venv\\lib\\site-packages\\sklearn\\metrics\\_classification.py:1565: UndefinedMetricWarning: Precision is ill-defined and being set to 0.0 in labels with no predicted samples. Use `zero_division` parameter to control this behavior.\n",
      "  _warn_prf(average, modifier, f\"{metric.capitalize()} is\", len(result))\n",
      "d:\\comvis\\comvis\\.venv\\lib\\site-packages\\sklearn\\metrics\\_classification.py:1565: UndefinedMetricWarning: Precision is ill-defined and being set to 0.0 in labels with no predicted samples. Use `zero_division` parameter to control this behavior.\n",
      "  _warn_prf(average, modifier, f\"{metric.capitalize()} is\", len(result))\n"
     ]
    }
   ],
   "source": [
    "import pandas as pd\n",
    "from sklearn.preprocessing import LabelEncoder\n",
    "from sklearn.model_selection import train_test_split, RandomizedSearchCV\n",
    "from sklearn.neural_network import MLPClassifier\n",
    "from sklearn.metrics import classification_report, accuracy_score\n",
    "import numpy as np\n",
    "\n",
    "# Inisialisasi model MLPClassifier\n",
    "mlp = MLPClassifier(random_state=42)\n",
    "\n",
    "# Tentukan distribusi hyperparameters yang ingin diuji\n",
    "param_dist = {\n",
    "    'hidden_layer_sizes': [(50,), (100,), (150,), (200,), (500), (1000)],  # Jumlah neuron di setiap layer\n",
    "    'activation': ['relu', 'tanh'],  # Fungsi aktivasi\n",
    "    'solver': ['adam', 'sgd'],  # Optimizer yang digunakan\n",
    "    'alpha': [0.0001, 0.001, 0.01],  # Regularisasi\n",
    "    'learning_rate': ['constant', 'invscaling', 'adaptive'],  # Laju pembelajaran\n",
    "    'max_iter': [200, 300, 500, 1000, 2000]  # Iterasi maksimum untuk pelatihan\n",
    "}\n",
    "\n",
    "# Gunakan RandomizedSearchCV untuk mencari kombinasi hyperparameter terbaik\n",
    "random_search = RandomizedSearchCV(\n",
    "    estimator=mlp, \n",
    "    param_distributions=param_dist, \n",
    "    n_iter=50,  # Jumlah iterasi pencarian\n",
    "    cv=5,  # Cross-validation\n",
    "    n_jobs=-1,  # Gunakan semua core CPU\n",
    "    scoring='accuracy', \n",
    "    verbose=2,\n",
    "    random_state=42\n",
    ")\n",
    "\n",
    "# Latih model dengan RandomizedSearchCV\n",
    "random_search.fit(X_train, y_train)\n",
    "\n",
    "# Tampilkan hyperparameter terbaik yang ditemukan\n",
    "print(\"Best Hyperparameters:\", random_search.best_params_)\n",
    "\n",
    "# Gunakan model terbaik yang ditemukan untuk prediksi\n",
    "best_mlp_random = random_search.best_estimator_\n",
    "y_pred = best_mlp_random.predict(X_test)\n",
    "\n",
    "# Evaluasi model\n",
    "print(\"Akurasi:\", accuracy_score(y_test, y_pred))\n",
    "print(\"Laporan Klasifikasi:\\n\", classification_report(y_test, y_pred))\n"
   ]
  }
 ],
 "metadata": {
  "kernelspec": {
   "display_name": ".venv",
   "language": "python",
   "name": "python3"
  },
  "language_info": {
   "codemirror_mode": {
    "name": "ipython",
    "version": 3
   },
   "file_extension": ".py",
   "mimetype": "text/x-python",
   "name": "python",
   "nbconvert_exporter": "python",
   "pygments_lexer": "ipython3",
   "version": "3.10.0"
  }
 },
 "nbformat": 4,
 "nbformat_minor": 5
}
